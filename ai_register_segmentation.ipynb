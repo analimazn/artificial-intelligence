{
  "nbformat": 4,
  "nbformat_minor": 0,
  "metadata": {
    "colab": {
      "name": "ai-register-segmentation",
      "provenance": [],
      "collapsed_sections": [],
      "toc_visible": true
    },
    "kernelspec": {
      "name": "python3",
      "display_name": "Python 3"
    },
    "accelerator": "GPU"
  },
  "cells": [
    {
      "cell_type": "markdown",
      "metadata": {
        "id": "9GOMEl799eOv",
        "colab_type": "text"
      },
      "source": [
        "Encontrar diferenças entre as imagens\n",
        "[Tutorial](https://www.pyimagesearch.com/2017/06/19/image-difference-with-opencv-and-python/)"
      ]
    },
    {
      "cell_type": "code",
      "metadata": {
        "id": "Kqx5PspR9dTG",
        "colab_type": "code",
        "outputId": "083412f4-dcac-4e3d-e418-bc8fdbc56e31",
        "colab": {
          "base_uri": "https://localhost:8080/",
          "height": 350
        }
      },
      "source": [
        "pip install --upgrade scikit-image imutils opencv-python"
      ],
      "execution_count": 0,
      "outputs": [
        {
          "output_type": "stream",
          "text": [
            "Requirement already up-to-date: scikit-image in /usr/local/lib/python3.6/dist-packages (0.16.2)\n",
            "Requirement already up-to-date: imutils in /usr/local/lib/python3.6/dist-packages (0.5.3)\n",
            "Requirement already up-to-date: opencv-python in /usr/local/lib/python3.6/dist-packages (4.1.2.30)\n",
            "Requirement already satisfied, skipping upgrade: pillow>=4.3.0 in /usr/local/lib/python3.6/dist-packages (from scikit-image) (4.3.0)\n",
            "Requirement already satisfied, skipping upgrade: matplotlib!=3.0.0,>=2.0.0 in /usr/local/lib/python3.6/dist-packages (from scikit-image) (3.1.1)\n",
            "Requirement already satisfied, skipping upgrade: imageio>=2.3.0 in /usr/local/lib/python3.6/dist-packages (from scikit-image) (2.4.1)\n",
            "Requirement already satisfied, skipping upgrade: scipy>=0.19.0 in /usr/local/lib/python3.6/dist-packages (from scikit-image) (1.3.2)\n",
            "Requirement already satisfied, skipping upgrade: PyWavelets>=0.4.0 in /usr/local/lib/python3.6/dist-packages (from scikit-image) (1.1.1)\n",
            "Requirement already satisfied, skipping upgrade: networkx>=2.0 in /usr/local/lib/python3.6/dist-packages (from scikit-image) (2.4)\n",
            "Requirement already satisfied, skipping upgrade: numpy>=1.11.3 in /usr/local/lib/python3.6/dist-packages (from opencv-python) (1.17.4)\n",
            "Requirement already satisfied, skipping upgrade: olefile in /usr/local/lib/python3.6/dist-packages (from pillow>=4.3.0->scikit-image) (0.46)\n",
            "Requirement already satisfied, skipping upgrade: kiwisolver>=1.0.1 in /usr/local/lib/python3.6/dist-packages (from matplotlib!=3.0.0,>=2.0.0->scikit-image) (1.1.0)\n",
            "Requirement already satisfied, skipping upgrade: cycler>=0.10 in /usr/local/lib/python3.6/dist-packages (from matplotlib!=3.0.0,>=2.0.0->scikit-image) (0.10.0)\n",
            "Requirement already satisfied, skipping upgrade: pyparsing!=2.0.4,!=2.1.2,!=2.1.6,>=2.0.1 in /usr/local/lib/python3.6/dist-packages (from matplotlib!=3.0.0,>=2.0.0->scikit-image) (2.4.5)\n",
            "Requirement already satisfied, skipping upgrade: python-dateutil>=2.1 in /usr/local/lib/python3.6/dist-packages (from matplotlib!=3.0.0,>=2.0.0->scikit-image) (2.6.1)\n",
            "Requirement already satisfied, skipping upgrade: decorator>=4.3.0 in /usr/local/lib/python3.6/dist-packages (from networkx>=2.0->scikit-image) (4.4.1)\n",
            "Requirement already satisfied, skipping upgrade: setuptools in /usr/local/lib/python3.6/dist-packages (from kiwisolver>=1.0.1->matplotlib!=3.0.0,>=2.0.0->scikit-image) (41.6.0)\n",
            "Requirement already satisfied, skipping upgrade: six in /usr/local/lib/python3.6/dist-packages (from cycler>=0.10->matplotlib!=3.0.0,>=2.0.0->scikit-image) (1.12.0)\n"
          ],
          "name": "stdout"
        }
      ]
    },
    {
      "cell_type": "code",
      "metadata": {
        "id": "xUtwP0yU9zCn",
        "colab_type": "code",
        "outputId": "abd77634-078e-468d-e488-ba293faabf8a",
        "colab": {
          "base_uri": "https://localhost:8080/",
          "height": 52
        }
      },
      "source": [
        "# import the necessary packages\n",
        "from skimage.measure import compare_ssim\n",
        "import argparse\n",
        "import imutils\n",
        "import cv2\n",
        "from google.colab.patches import cv2_imshow\n",
        "\n",
        "# load the two input images\n",
        "imageA = cv2.imread('2018_image.jpg')\n",
        "imageB = cv2.imread('image_2019.jpg')\n",
        "\n",
        "# convert the images to grayscale\n",
        "grayA = cv2.cvtColor(imageA, cv2.COLOR_BGR2GRAY)\n",
        "grayB = cv2.cvtColor(imageB, cv2.COLOR_BGR2GRAY)\n",
        "\n",
        "grayB = cv2.resize(grayB, (grayA.shape[1], grayA.shape[0]))\n",
        "\n",
        "print(grayA.shape)\n",
        "print(grayB.shape)\n"
      ],
      "execution_count": 0,
      "outputs": [
        {
          "output_type": "stream",
          "text": [
            "(2531, 4894)\n",
            "(2531, 4894)\n"
          ],
          "name": "stdout"
        }
      ]
    },
    {
      "cell_type": "code",
      "metadata": {
        "id": "989aQTbb_omz",
        "colab_type": "code",
        "outputId": "80298d66-f8d4-4967-df03-f92395815316",
        "colab": {
          "base_uri": "https://localhost:8080/",
          "height": 34
        }
      },
      "source": [
        "# compute the Structural Similarity Index (SSIM) between the two\n",
        "# images, ensuring that the difference image is returned\n",
        "(score, diff) = compare_ssim(grayB, grayA, full=True)\n",
        "diff = (diff * 255).astype(\"uint8\")\n",
        "print(\"SSIM: {}\".format(score))"
      ],
      "execution_count": 0,
      "outputs": [
        {
          "output_type": "stream",
          "text": [
            "SSIM: 0.471487772706139\n"
          ],
          "name": "stdout"
        }
      ]
    },
    {
      "cell_type": "code",
      "metadata": {
        "id": "c4SDew3eByv9",
        "colab_type": "code",
        "colab": {}
      },
      "source": [
        "# threshold the difference image, followed by finding contours to\n",
        "# obtain the regions of the two input images that differ\n",
        "thresh = cv2.threshold(diff, 0, 255,\n",
        "\tcv2.THRESH_BINARY_INV | cv2.THRESH_OTSU)[1]\n",
        "cnts = cv2.findContours(thresh.copy(), cv2.RETR_EXTERNAL,\n",
        "\tcv2.CHAIN_APPROX_SIMPLE)\n",
        "cnts = imutils.grab_contours(cnts)"
      ],
      "execution_count": 0,
      "outputs": []
    },
    {
      "cell_type": "code",
      "metadata": {
        "id": "KF5i0VLrB8f3",
        "colab_type": "code",
        "colab": {}
      },
      "source": [
        "from google.colab.patches import cv2_imshow\n",
        "\n",
        "# loop over the contours\n",
        "for c in cnts:\n",
        "\t# compute the bounding box of the contour and then draw the\n",
        "\t# bounding box on both input images to represent where the two\n",
        "\t# images differ\n",
        "\t(x, y, w, h) = cv2.boundingRect(c)\n",
        "\tcv2.rectangle(imageA, (x, y), (x + w, y + h), (0, 0, 255), 2)\n",
        "\tcv2.rectangle(imageB, (x, y), (x + w, y + h), (0, 0, 255), 2)\n",
        "\n",
        "# show the output images\n",
        "cv2_imshow(imageA)\n",
        "cv2_imshow(imageB)"
      ],
      "execution_count": 0,
      "outputs": []
    },
    {
      "cell_type": "markdown",
      "metadata": {
        "id": "R31EB86md6yl",
        "colab_type": "text"
      },
      "source": [
        "Segmentação usando subtração entre as imagens"
      ]
    },
    {
      "cell_type": "code",
      "metadata": {
        "id": "l-8V5Eu3LFKW",
        "colab_type": "code",
        "outputId": "83e570c8-6fdf-4e6e-9d50-ee08b4334785",
        "colab": {
          "base_uri": "https://localhost:8080/",
          "height": 34
        }
      },
      "source": [
        "import cv2\n",
        "\n",
        "# load images\n",
        "image1 = cv2.imread(\"2018_image.jpg\")\n",
        "image2 = cv2.imread(\"image_2019.jpg\")\n",
        "\n",
        "# set size of image2 equal to image1\n",
        "image2 = cv2.resize(image2, (image1.shape[1], image1.shape[0]))\n",
        "\n",
        "# compute difference\n",
        "difference = cv2.subtract(image1, image2)\n",
        "\n",
        "# color the mask red\n",
        "Conv_hsv_Gray = cv2.cvtColor(difference, cv2.COLOR_BGR2GRAY)\n",
        "ret, mask = cv2.threshold(Conv_hsv_Gray, 0, 255,cv2.THRESH_BINARY_INV |cv2.THRESH_OTSU)\n",
        "difference[mask != 255] = [0, 0, 255]\n",
        "\n",
        "# add the red mask to the images to make the differences obvious\n",
        "image1[mask != 255] = [0, 0, 255]\n",
        "image2[mask != 255] = [0, 0, 255]\n",
        "\n",
        "# store images\n",
        "cv2.imwrite('diffOverImage1.png', image1)\n",
        "cv2.imwrite('diffOverImage2.png', image2)\n",
        "cv2.imwrite('diff.png', difference)"
      ],
      "execution_count": 0,
      "outputs": [
        {
          "output_type": "execute_result",
          "data": {
            "text/plain": [
              "True"
            ]
          },
          "metadata": {
            "tags": []
          },
          "execution_count": 5
        }
      ]
    },
    {
      "cell_type": "markdown",
      "metadata": {
        "id": "UQP0XZisPdYj",
        "colab_type": "text"
      },
      "source": [
        "Registro"
      ]
    },
    {
      "cell_type": "code",
      "metadata": {
        "id": "FEocZ3pRA7mQ",
        "colab_type": "code",
        "colab": {}
      },
      "source": [
        "# import cv2 \n",
        "# import os\n",
        "# import numpy as np "
      ],
      "execution_count": 0,
      "outputs": []
    },
    {
      "cell_type": "code",
      "metadata": {
        "id": "-o76mcXKA9Ug",
        "colab_type": "code",
        "colab": {}
      },
      "source": [
        "# # Open the image files. \n",
        "# img2_color = cv2.imread(\"GE01_2011_JPEG_R1C1.jpg\") # Reference image.\n",
        "# img2 = cv2.cvtColor(img2_color, cv2.COLOR_BGR2GRAY)\n",
        "# height, width = img2.shape "
      ],
      "execution_count": 0,
      "outputs": []
    },
    {
      "cell_type": "code",
      "metadata": {
        "id": "qaDy_8IxGEGa",
        "colab_type": "code",
        "colab": {}
      },
      "source": [
        "# DATADIR = \"./data\"\n",
        "# path = os.path.join(DATADIR)"
      ],
      "execution_count": 0,
      "outputs": []
    },
    {
      "cell_type": "code",
      "metadata": {
        "id": "YPxncbJZCz1D",
        "colab_type": "code",
        "colab": {}
      },
      "source": [
        "# for img in os.listdir(path):\n",
        "#     try:\n",
        "#         img1_color = cv2.imread(os.path.join(path, img)) # Image to be aligned.\n",
        "#         img1 = cv2.cvtColor(img1_color, cv2.COLOR_BGR2GRAY) \n",
        "        \n",
        "#         # Create ORB detector with 5000 features. \n",
        "#         orb_detector = cv2.ORB_create(5000)\n",
        "        \n",
        "#         # Find keypoints and descriptors. \n",
        "#         # The first arg is the image, second arg is the mask \n",
        "#         # (which is not reqiured in this case). \n",
        "#         kp1, d1 = orb_detector.detectAndCompute(img1, None) \n",
        "#         kp2, d2 = orb_detector.detectAndCompute(img2, None)\n",
        "        \n",
        "#         # Match features between the two images. \n",
        "#         # We create a Brute Force matcher with \n",
        "#         # Hamming distance as measurement mode. \n",
        "#         matcher = cv2.BFMatcher(cv2.NORM_HAMMING, crossCheck = True)\n",
        "        \n",
        "#         # Match the two sets of descriptors. \n",
        "#         matches = matcher.match(d1, d2)\n",
        "        \n",
        "#         # Sort matches on the basis of their Hamming distance. \n",
        "#         matches.sort(key = lambda x: x.distance)\n",
        "        \n",
        "#         # Take the top 90 % matches forward. \n",
        "#         matches = matches[:int(len(matches)*90)] \n",
        "#         no_of_matches = len(matches)\n",
        "        \n",
        "#         # Define empty matrices of shape no_of_matches * 2. \n",
        "#         p1 = np.zeros((no_of_matches, 2)) \n",
        "#         p2 = np.zeros((no_of_matches, 2))\n",
        "        \n",
        "#         for i in range(len(matches)): \n",
        "#             p1[i, :] = kp1[matches[i].queryIdx].pt \n",
        "#             p2[i, :] = kp2[matches[i].trainIdx].pt \n",
        "        \n",
        "#         # Find the homography matrix. \n",
        "#         homography, mask = cv2.findHomography(p1, p2, cv2.RANSAC)\n",
        "        \n",
        "#         # Use this matrix to transform the \n",
        "#         # colored image wrt the reference image. \n",
        "#         transformed_img = cv2.warpPerspective(img1_color, \n",
        "#                             homography, (width, height))\n",
        "        \n",
        "#         # Save the output. \n",
        "#         cv2.imwrite('newimg' + img + '.jpg', transformed_img) \n",
        "        \n",
        "#     except Exception as e:\n",
        "#         pass\n",
        "            "
      ],
      "execution_count": 0,
      "outputs": []
    }
  ]
}